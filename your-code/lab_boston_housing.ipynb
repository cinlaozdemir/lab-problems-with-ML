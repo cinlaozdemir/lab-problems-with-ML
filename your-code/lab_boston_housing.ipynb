{
 "cells": [
  {
   "cell_type": "markdown",
   "metadata": {},
   "source": [
    "# Understanding Over & Underfitting\n",
    "## Predicting Boston Housing Prices"
   ]
  },
  {
   "cell_type": "markdown",
   "metadata": {},
   "source": [
    "## Getting Started\n",
    "In this project, you will use the Boston Housing Prices dataset to build several models to predict the prices of homes with particular qualities from the suburbs of Boston, MA.\n",
    "We will build models with several different parameters, which will change the goodness of fit for each. "
   ]
  },
  {
   "cell_type": "markdown",
   "metadata": {},
   "source": [
    "---\n",
    "## Data Exploration\n",
    "Since we want to predict the value of houses, the **target variable**, `'MEDV'`, will be the variable we seek to predict."
   ]
  },
  {
   "cell_type": "markdown",
   "metadata": {},
   "source": [
    "### Import and explore the data. Clean the data for outliers and missing values. "
   ]
  },
  {
   "cell_type": "markdown",
   "metadata": {},
   "source": [
    "#### Importing relevant libraries:"
   ]
  },
  {
   "cell_type": "code",
   "execution_count": 22,
   "metadata": {},
   "outputs": [],
   "source": [
    "import pandas as pd\n",
    "import seaborn as sns\n",
    "import numpy as np\n",
    "from scipy import stats\n",
    "import matplotlib.pyplot as plt"
   ]
  },
  {
   "cell_type": "markdown",
   "metadata": {},
   "source": [
    "#### Importing the dataset:"
   ]
  },
  {
   "cell_type": "code",
   "execution_count": 2,
   "metadata": {},
   "outputs": [],
   "source": [
    "house = pd.read_csv(\"../data/boston_data.csv\")"
   ]
  },
  {
   "cell_type": "markdown",
   "metadata": {},
   "source": [
    "#### Data cleaning:"
   ]
  },
  {
   "cell_type": "code",
   "execution_count": 3,
   "metadata": {},
   "outputs": [
    {
     "data": {
      "text/html": [
       "<div>\n",
       "<style scoped>\n",
       "    .dataframe tbody tr th:only-of-type {\n",
       "        vertical-align: middle;\n",
       "    }\n",
       "\n",
       "    .dataframe tbody tr th {\n",
       "        vertical-align: top;\n",
       "    }\n",
       "\n",
       "    .dataframe thead th {\n",
       "        text-align: right;\n",
       "    }\n",
       "</style>\n",
       "<table border=\"1\" class=\"dataframe\">\n",
       "  <thead>\n",
       "    <tr style=\"text-align: right;\">\n",
       "      <th></th>\n",
       "      <th>crim</th>\n",
       "      <th>zn</th>\n",
       "      <th>indus</th>\n",
       "      <th>chas</th>\n",
       "      <th>nox</th>\n",
       "      <th>rm</th>\n",
       "      <th>age</th>\n",
       "      <th>dis</th>\n",
       "      <th>rad</th>\n",
       "      <th>tax</th>\n",
       "      <th>ptratio</th>\n",
       "      <th>black</th>\n",
       "      <th>lstat</th>\n",
       "      <th>medv</th>\n",
       "    </tr>\n",
       "  </thead>\n",
       "  <tbody>\n",
       "    <tr>\n",
       "      <th>0</th>\n",
       "      <td>0.15876</td>\n",
       "      <td>0.0</td>\n",
       "      <td>10.81</td>\n",
       "      <td>0.0</td>\n",
       "      <td>0.413</td>\n",
       "      <td>5.961</td>\n",
       "      <td>17.5</td>\n",
       "      <td>5.2873</td>\n",
       "      <td>4.0</td>\n",
       "      <td>305.0</td>\n",
       "      <td>19.2</td>\n",
       "      <td>376.94</td>\n",
       "      <td>9.88</td>\n",
       "      <td>21.7</td>\n",
       "    </tr>\n",
       "    <tr>\n",
       "      <th>1</th>\n",
       "      <td>0.10328</td>\n",
       "      <td>25.0</td>\n",
       "      <td>5.13</td>\n",
       "      <td>0.0</td>\n",
       "      <td>0.453</td>\n",
       "      <td>5.927</td>\n",
       "      <td>47.2</td>\n",
       "      <td>6.9320</td>\n",
       "      <td>8.0</td>\n",
       "      <td>284.0</td>\n",
       "      <td>19.7</td>\n",
       "      <td>396.90</td>\n",
       "      <td>9.22</td>\n",
       "      <td>19.6</td>\n",
       "    </tr>\n",
       "    <tr>\n",
       "      <th>2</th>\n",
       "      <td>0.34940</td>\n",
       "      <td>0.0</td>\n",
       "      <td>9.90</td>\n",
       "      <td>0.0</td>\n",
       "      <td>0.544</td>\n",
       "      <td>5.972</td>\n",
       "      <td>76.7</td>\n",
       "      <td>3.1025</td>\n",
       "      <td>4.0</td>\n",
       "      <td>304.0</td>\n",
       "      <td>18.4</td>\n",
       "      <td>396.24</td>\n",
       "      <td>9.97</td>\n",
       "      <td>20.3</td>\n",
       "    </tr>\n",
       "    <tr>\n",
       "      <th>3</th>\n",
       "      <td>2.73397</td>\n",
       "      <td>0.0</td>\n",
       "      <td>19.58</td>\n",
       "      <td>0.0</td>\n",
       "      <td>0.871</td>\n",
       "      <td>5.597</td>\n",
       "      <td>94.9</td>\n",
       "      <td>1.5257</td>\n",
       "      <td>5.0</td>\n",
       "      <td>403.0</td>\n",
       "      <td>14.7</td>\n",
       "      <td>351.85</td>\n",
       "      <td>21.45</td>\n",
       "      <td>15.4</td>\n",
       "    </tr>\n",
       "    <tr>\n",
       "      <th>4</th>\n",
       "      <td>0.04337</td>\n",
       "      <td>21.0</td>\n",
       "      <td>5.64</td>\n",
       "      <td>0.0</td>\n",
       "      <td>0.439</td>\n",
       "      <td>6.115</td>\n",
       "      <td>63.0</td>\n",
       "      <td>6.8147</td>\n",
       "      <td>4.0</td>\n",
       "      <td>243.0</td>\n",
       "      <td>16.8</td>\n",
       "      <td>393.97</td>\n",
       "      <td>9.43</td>\n",
       "      <td>20.5</td>\n",
       "    </tr>\n",
       "  </tbody>\n",
       "</table>\n",
       "</div>"
      ],
      "text/plain": [
       "      crim    zn  indus  chas    nox     rm   age     dis  rad    tax  \\\n",
       "0  0.15876   0.0  10.81   0.0  0.413  5.961  17.5  5.2873  4.0  305.0   \n",
       "1  0.10328  25.0   5.13   0.0  0.453  5.927  47.2  6.9320  8.0  284.0   \n",
       "2  0.34940   0.0   9.90   0.0  0.544  5.972  76.7  3.1025  4.0  304.0   \n",
       "3  2.73397   0.0  19.58   0.0  0.871  5.597  94.9  1.5257  5.0  403.0   \n",
       "4  0.04337  21.0   5.64   0.0  0.439  6.115  63.0  6.8147  4.0  243.0   \n",
       "\n",
       "   ptratio   black  lstat  medv  \n",
       "0     19.2  376.94   9.88  21.7  \n",
       "1     19.7  396.90   9.22  19.6  \n",
       "2     18.4  396.24   9.97  20.3  \n",
       "3     14.7  351.85  21.45  15.4  \n",
       "4     16.8  393.97   9.43  20.5  "
      ]
     },
     "execution_count": 3,
     "metadata": {},
     "output_type": "execute_result"
    }
   ],
   "source": [
    "house.head()"
   ]
  },
  {
   "cell_type": "markdown",
   "metadata": {},
   "source": [
    "CRIM - per capita crime rate by town\\\n",
    "ZN - proportion of residential land zoned for lots over 25,000 sq.ft.\\\n",
    "INDUS - proportion of non-retail business acres per town.\\\n",
    "CHAS - Charles River dummy variable (1 if tract bounds river; 0 otherwise)\\\n",
    "NOX - nitric oxides concentration (parts per 10 million)\\\n",
    "RM - average number of rooms per dwelling\\\n",
    "AGE - proportion of owner-occupied units built prior to 1940\\\n",
    "DIS - weighted distances to five Boston employment centres\\\n",
    "RAD - index of accessibility to radial highways\\\n",
    "TAX - full-value property-tax rate per 10000 Dollars \\\n",
    "PTRATIO - pupil-teacher ratio by town\\\n",
    "B - 1000(Bk - 0.63)^2 where Bk is the proportion of blacks by town\\\n",
    "LSTAT - Perc. lower status of the population\\\n",
    "MEDV - Median value of owner-occupied homes in $1000's\\"
   ]
  },
  {
   "cell_type": "code",
   "execution_count": 4,
   "metadata": {},
   "outputs": [
    {
     "data": {
      "text/plain": [
       "(404, 14)"
      ]
     },
     "execution_count": 4,
     "metadata": {},
     "output_type": "execute_result"
    }
   ],
   "source": [
    "house.shape"
   ]
  },
  {
   "cell_type": "code",
   "execution_count": 5,
   "metadata": {},
   "outputs": [
    {
     "data": {
      "text/plain": [
       "crim       float64\n",
       "zn         float64\n",
       "indus      float64\n",
       "chas       float64\n",
       "nox        float64\n",
       "rm         float64\n",
       "age        float64\n",
       "dis        float64\n",
       "rad        float64\n",
       "tax        float64\n",
       "ptratio    float64\n",
       "black      float64\n",
       "lstat      float64\n",
       "medv       float64\n",
       "dtype: object"
      ]
     },
     "execution_count": 5,
     "metadata": {},
     "output_type": "execute_result"
    }
   ],
   "source": [
    "house.dtypes"
   ]
  },
  {
   "cell_type": "code",
   "execution_count": 6,
   "metadata": {},
   "outputs": [
    {
     "name": "stdout",
     "output_type": "stream",
     "text": [
      "<class 'pandas.core.frame.DataFrame'>\n",
      "RangeIndex: 404 entries, 0 to 403\n",
      "Data columns (total 14 columns):\n",
      "crim       404 non-null float64\n",
      "zn         404 non-null float64\n",
      "indus      404 non-null float64\n",
      "chas       404 non-null float64\n",
      "nox        404 non-null float64\n",
      "rm         404 non-null float64\n",
      "age        404 non-null float64\n",
      "dis        404 non-null float64\n",
      "rad        404 non-null float64\n",
      "tax        404 non-null float64\n",
      "ptratio    404 non-null float64\n",
      "black      404 non-null float64\n",
      "lstat      404 non-null float64\n",
      "medv       404 non-null float64\n",
      "dtypes: float64(14)\n",
      "memory usage: 44.3 KB\n"
     ]
    }
   ],
   "source": [
    "house.info()"
   ]
  },
  {
   "cell_type": "code",
   "execution_count": 7,
   "metadata": {
    "scrolled": true
   },
   "outputs": [
    {
     "data": {
      "text/html": [
       "<div>\n",
       "<style scoped>\n",
       "    .dataframe tbody tr th:only-of-type {\n",
       "        vertical-align: middle;\n",
       "    }\n",
       "\n",
       "    .dataframe tbody tr th {\n",
       "        vertical-align: top;\n",
       "    }\n",
       "\n",
       "    .dataframe thead th {\n",
       "        text-align: right;\n",
       "    }\n",
       "</style>\n",
       "<table border=\"1\" class=\"dataframe\">\n",
       "  <thead>\n",
       "    <tr style=\"text-align: right;\">\n",
       "      <th></th>\n",
       "      <th>crim</th>\n",
       "      <th>zn</th>\n",
       "      <th>indus</th>\n",
       "      <th>chas</th>\n",
       "      <th>nox</th>\n",
       "      <th>rm</th>\n",
       "      <th>age</th>\n",
       "      <th>dis</th>\n",
       "      <th>rad</th>\n",
       "      <th>tax</th>\n",
       "      <th>ptratio</th>\n",
       "      <th>black</th>\n",
       "      <th>lstat</th>\n",
       "      <th>medv</th>\n",
       "    </tr>\n",
       "  </thead>\n",
       "  <tbody>\n",
       "    <tr>\n",
       "      <th>count</th>\n",
       "      <td>404.000000</td>\n",
       "      <td>404.000000</td>\n",
       "      <td>404.000000</td>\n",
       "      <td>404.000000</td>\n",
       "      <td>404.000000</td>\n",
       "      <td>404.00000</td>\n",
       "      <td>404.000000</td>\n",
       "      <td>404.000000</td>\n",
       "      <td>404.000000</td>\n",
       "      <td>404.000000</td>\n",
       "      <td>404.000000</td>\n",
       "      <td>404.000000</td>\n",
       "      <td>404.000000</td>\n",
       "      <td>404.000000</td>\n",
       "    </tr>\n",
       "    <tr>\n",
       "      <th>mean</th>\n",
       "      <td>3.730912</td>\n",
       "      <td>10.509901</td>\n",
       "      <td>11.189901</td>\n",
       "      <td>0.069307</td>\n",
       "      <td>0.556710</td>\n",
       "      <td>6.30145</td>\n",
       "      <td>68.601733</td>\n",
       "      <td>3.799666</td>\n",
       "      <td>9.836634</td>\n",
       "      <td>411.688119</td>\n",
       "      <td>18.444554</td>\n",
       "      <td>355.068243</td>\n",
       "      <td>12.598936</td>\n",
       "      <td>22.312376</td>\n",
       "    </tr>\n",
       "    <tr>\n",
       "      <th>std</th>\n",
       "      <td>8.943922</td>\n",
       "      <td>22.053733</td>\n",
       "      <td>6.814909</td>\n",
       "      <td>0.254290</td>\n",
       "      <td>0.117321</td>\n",
       "      <td>0.67583</td>\n",
       "      <td>28.066143</td>\n",
       "      <td>2.109916</td>\n",
       "      <td>8.834741</td>\n",
       "      <td>171.073553</td>\n",
       "      <td>2.150295</td>\n",
       "      <td>94.489572</td>\n",
       "      <td>6.925173</td>\n",
       "      <td>8.837019</td>\n",
       "    </tr>\n",
       "    <tr>\n",
       "      <th>min</th>\n",
       "      <td>0.006320</td>\n",
       "      <td>0.000000</td>\n",
       "      <td>0.460000</td>\n",
       "      <td>0.000000</td>\n",
       "      <td>0.392000</td>\n",
       "      <td>3.56100</td>\n",
       "      <td>2.900000</td>\n",
       "      <td>1.169100</td>\n",
       "      <td>1.000000</td>\n",
       "      <td>187.000000</td>\n",
       "      <td>12.600000</td>\n",
       "      <td>0.320000</td>\n",
       "      <td>1.730000</td>\n",
       "      <td>5.000000</td>\n",
       "    </tr>\n",
       "    <tr>\n",
       "      <th>25%</th>\n",
       "      <td>0.082382</td>\n",
       "      <td>0.000000</td>\n",
       "      <td>5.190000</td>\n",
       "      <td>0.000000</td>\n",
       "      <td>0.453000</td>\n",
       "      <td>5.90275</td>\n",
       "      <td>45.800000</td>\n",
       "      <td>2.087875</td>\n",
       "      <td>4.000000</td>\n",
       "      <td>281.000000</td>\n",
       "      <td>17.375000</td>\n",
       "      <td>374.710000</td>\n",
       "      <td>7.135000</td>\n",
       "      <td>17.100000</td>\n",
       "    </tr>\n",
       "    <tr>\n",
       "      <th>50%</th>\n",
       "      <td>0.253715</td>\n",
       "      <td>0.000000</td>\n",
       "      <td>9.795000</td>\n",
       "      <td>0.000000</td>\n",
       "      <td>0.538000</td>\n",
       "      <td>6.23050</td>\n",
       "      <td>76.600000</td>\n",
       "      <td>3.207450</td>\n",
       "      <td>5.000000</td>\n",
       "      <td>330.000000</td>\n",
       "      <td>19.000000</td>\n",
       "      <td>391.065000</td>\n",
       "      <td>11.265000</td>\n",
       "      <td>21.400000</td>\n",
       "    </tr>\n",
       "    <tr>\n",
       "      <th>75%</th>\n",
       "      <td>4.053158</td>\n",
       "      <td>12.500000</td>\n",
       "      <td>18.100000</td>\n",
       "      <td>0.000000</td>\n",
       "      <td>0.631000</td>\n",
       "      <td>6.62925</td>\n",
       "      <td>94.150000</td>\n",
       "      <td>5.222125</td>\n",
       "      <td>24.000000</td>\n",
       "      <td>666.000000</td>\n",
       "      <td>20.200000</td>\n",
       "      <td>396.007500</td>\n",
       "      <td>16.910000</td>\n",
       "      <td>25.000000</td>\n",
       "    </tr>\n",
       "    <tr>\n",
       "      <th>max</th>\n",
       "      <td>88.976200</td>\n",
       "      <td>95.000000</td>\n",
       "      <td>27.740000</td>\n",
       "      <td>1.000000</td>\n",
       "      <td>0.871000</td>\n",
       "      <td>8.78000</td>\n",
       "      <td>100.000000</td>\n",
       "      <td>12.126500</td>\n",
       "      <td>24.000000</td>\n",
       "      <td>711.000000</td>\n",
       "      <td>22.000000</td>\n",
       "      <td>396.900000</td>\n",
       "      <td>34.370000</td>\n",
       "      <td>50.000000</td>\n",
       "    </tr>\n",
       "  </tbody>\n",
       "</table>\n",
       "</div>"
      ],
      "text/plain": [
       "             crim          zn       indus        chas         nox         rm  \\\n",
       "count  404.000000  404.000000  404.000000  404.000000  404.000000  404.00000   \n",
       "mean     3.730912   10.509901   11.189901    0.069307    0.556710    6.30145   \n",
       "std      8.943922   22.053733    6.814909    0.254290    0.117321    0.67583   \n",
       "min      0.006320    0.000000    0.460000    0.000000    0.392000    3.56100   \n",
       "25%      0.082382    0.000000    5.190000    0.000000    0.453000    5.90275   \n",
       "50%      0.253715    0.000000    9.795000    0.000000    0.538000    6.23050   \n",
       "75%      4.053158   12.500000   18.100000    0.000000    0.631000    6.62925   \n",
       "max     88.976200   95.000000   27.740000    1.000000    0.871000    8.78000   \n",
       "\n",
       "              age         dis         rad         tax     ptratio       black  \\\n",
       "count  404.000000  404.000000  404.000000  404.000000  404.000000  404.000000   \n",
       "mean    68.601733    3.799666    9.836634  411.688119   18.444554  355.068243   \n",
       "std     28.066143    2.109916    8.834741  171.073553    2.150295   94.489572   \n",
       "min      2.900000    1.169100    1.000000  187.000000   12.600000    0.320000   \n",
       "25%     45.800000    2.087875    4.000000  281.000000   17.375000  374.710000   \n",
       "50%     76.600000    3.207450    5.000000  330.000000   19.000000  391.065000   \n",
       "75%     94.150000    5.222125   24.000000  666.000000   20.200000  396.007500   \n",
       "max    100.000000   12.126500   24.000000  711.000000   22.000000  396.900000   \n",
       "\n",
       "            lstat        medv  \n",
       "count  404.000000  404.000000  \n",
       "mean    12.598936   22.312376  \n",
       "std      6.925173    8.837019  \n",
       "min      1.730000    5.000000  \n",
       "25%      7.135000   17.100000  \n",
       "50%     11.265000   21.400000  \n",
       "75%     16.910000   25.000000  \n",
       "max     34.370000   50.000000  "
      ]
     },
     "execution_count": 7,
     "metadata": {},
     "output_type": "execute_result"
    }
   ],
   "source": [
    "house.describe()"
   ]
  },
  {
   "cell_type": "code",
   "execution_count": 8,
   "metadata": {},
   "outputs": [
    {
     "data": {
      "text/plain": [
       "Index(['crim', 'zn', 'indus', 'chas', 'nox', 'rm', 'age', 'dis', 'rad', 'tax',\n",
       "       'ptratio', 'black', 'lstat', 'medv'],\n",
       "      dtype='object')"
      ]
     },
     "execution_count": 8,
     "metadata": {},
     "output_type": "execute_result"
    }
   ],
   "source": [
    "house.columns"
   ]
  },
  {
   "cell_type": "code",
   "execution_count": 9,
   "metadata": {},
   "outputs": [
    {
     "data": {
      "text/plain": [
       "<matplotlib.axes._subplots.AxesSubplot at 0x1b8315f6a20>"
      ]
     },
     "execution_count": 9,
     "metadata": {},
     "output_type": "execute_result"
    },
    {
     "data": {
      "image/png": "[encoded data removed]",
      "text/plain": [
       "<Figure size 432x288 with 1 Axes>"
      ]
     },
     "metadata": {
      "needs_background": "light"
     },
     "output_type": "display_data"
    }
   ],
   "source": [
    "house.boxplot(column=['crim', 'zn', 'indus', 'chas', 'nox', 'rm', 'age', 'dis', 'rad',\n",
    "       'ptratio', 'lstat', 'medv'])"
   ]
  },
  {
   "cell_type": "markdown",
   "metadata": {},
   "source": [
    "#### Dropping chas for a while to work with the z value:"
   ]
  },
  {
   "cell_type": "code",
   "execution_count": 10,
   "metadata": {},
   "outputs": [],
   "source": [
    "house_clean = house.drop(columns=\"chas\")"
   ]
  },
  {
   "cell_type": "code",
   "execution_count": 16,
   "metadata": {},
   "outputs": [],
   "source": [
    "chas = house[[\"chas\"]]"
   ]
  },
  {
   "cell_type": "markdown",
   "metadata": {},
   "source": [
    "#### Using z value and taking out all values that are more than 3 std dev further than the mean:"
   ]
  },
  {
   "cell_type": "code",
   "execution_count": 11,
   "metadata": {},
   "outputs": [],
   "source": [
    "house_clean = house_clean[(np.abs(stats.zscore(house_clean))<3).all(axis=1)]"
   ]
  },
  {
   "cell_type": "code",
   "execution_count": 12,
   "metadata": {},
   "outputs": [
    {
     "data": {
      "text/html": [
       "<div>\n",
       "<style scoped>\n",
       "    .dataframe tbody tr th:only-of-type {\n",
       "        vertical-align: middle;\n",
       "    }\n",
       "\n",
       "    .dataframe tbody tr th {\n",
       "        vertical-align: top;\n",
       "    }\n",
       "\n",
       "    .dataframe thead th {\n",
       "        text-align: right;\n",
       "    }\n",
       "</style>\n",
       "<table border=\"1\" class=\"dataframe\">\n",
       "  <thead>\n",
       "    <tr style=\"text-align: right;\">\n",
       "      <th></th>\n",
       "      <th>crim</th>\n",
       "      <th>zn</th>\n",
       "      <th>indus</th>\n",
       "      <th>nox</th>\n",
       "      <th>rm</th>\n",
       "      <th>age</th>\n",
       "      <th>dis</th>\n",
       "      <th>rad</th>\n",
       "      <th>tax</th>\n",
       "      <th>ptratio</th>\n",
       "      <th>black</th>\n",
       "      <th>lstat</th>\n",
       "      <th>medv</th>\n",
       "    </tr>\n",
       "  </thead>\n",
       "  <tbody>\n",
       "    <tr>\n",
       "      <th>count</th>\n",
       "      <td>344.000000</td>\n",
       "      <td>344.000000</td>\n",
       "      <td>344.000000</td>\n",
       "      <td>344.000000</td>\n",
       "      <td>344.000000</td>\n",
       "      <td>344.000000</td>\n",
       "      <td>344.000000</td>\n",
       "      <td>344.000000</td>\n",
       "      <td>344.000000</td>\n",
       "      <td>344.000000</td>\n",
       "      <td>344.000000</td>\n",
       "      <td>344.000000</td>\n",
       "      <td>344.000000</td>\n",
       "    </tr>\n",
       "    <tr>\n",
       "      <th>mean</th>\n",
       "      <td>2.450686</td>\n",
       "      <td>7.226744</td>\n",
       "      <td>11.111017</td>\n",
       "      <td>0.554299</td>\n",
       "      <td>6.258157</td>\n",
       "      <td>68.745058</td>\n",
       "      <td>3.754371</td>\n",
       "      <td>9.026163</td>\n",
       "      <td>395.613372</td>\n",
       "      <td>18.472384</td>\n",
       "      <td>372.805756</td>\n",
       "      <td>12.605669</td>\n",
       "      <td>21.870349</td>\n",
       "    </tr>\n",
       "    <tr>\n",
       "      <th>std</th>\n",
       "      <td>4.615743</td>\n",
       "      <td>15.207775</td>\n",
       "      <td>6.614872</td>\n",
       "      <td>0.115187</td>\n",
       "      <td>0.569417</td>\n",
       "      <td>27.481065</td>\n",
       "      <td>1.862511</td>\n",
       "      <td>8.305530</td>\n",
       "      <td>164.333352</td>\n",
       "      <td>2.043084</td>\n",
       "      <td>56.255129</td>\n",
       "      <td>6.433283</td>\n",
       "      <td>7.049946</td>\n",
       "    </tr>\n",
       "    <tr>\n",
       "      <th>min</th>\n",
       "      <td>0.006320</td>\n",
       "      <td>0.000000</td>\n",
       "      <td>1.250000</td>\n",
       "      <td>0.400000</td>\n",
       "      <td>4.368000</td>\n",
       "      <td>2.900000</td>\n",
       "      <td>1.316300</td>\n",
       "      <td>1.000000</td>\n",
       "      <td>188.000000</td>\n",
       "      <td>13.000000</td>\n",
       "      <td>81.330000</td>\n",
       "      <td>1.980000</td>\n",
       "      <td>5.600000</td>\n",
       "    </tr>\n",
       "    <tr>\n",
       "      <th>25%</th>\n",
       "      <td>0.086420</td>\n",
       "      <td>0.000000</td>\n",
       "      <td>5.860000</td>\n",
       "      <td>0.459500</td>\n",
       "      <td>5.890500</td>\n",
       "      <td>47.900000</td>\n",
       "      <td>2.197850</td>\n",
       "      <td>4.000000</td>\n",
       "      <td>279.000000</td>\n",
       "      <td>17.400000</td>\n",
       "      <td>378.000000</td>\n",
       "      <td>7.537500</td>\n",
       "      <td>17.800000</td>\n",
       "    </tr>\n",
       "    <tr>\n",
       "      <th>50%</th>\n",
       "      <td>0.223505</td>\n",
       "      <td>0.000000</td>\n",
       "      <td>8.560000</td>\n",
       "      <td>0.524000</td>\n",
       "      <td>6.215500</td>\n",
       "      <td>74.950000</td>\n",
       "      <td>3.346000</td>\n",
       "      <td>5.000000</td>\n",
       "      <td>311.000000</td>\n",
       "      <td>18.850000</td>\n",
       "      <td>392.110000</td>\n",
       "      <td>11.395000</td>\n",
       "      <td>21.400000</td>\n",
       "    </tr>\n",
       "    <tr>\n",
       "      <th>75%</th>\n",
       "      <td>2.447392</td>\n",
       "      <td>0.000000</td>\n",
       "      <td>18.100000</td>\n",
       "      <td>0.614000</td>\n",
       "      <td>6.563500</td>\n",
       "      <td>94.025000</td>\n",
       "      <td>4.978850</td>\n",
       "      <td>8.000000</td>\n",
       "      <td>437.000000</td>\n",
       "      <td>20.200000</td>\n",
       "      <td>396.352500</td>\n",
       "      <td>16.312500</td>\n",
       "      <td>24.700000</td>\n",
       "    </tr>\n",
       "    <tr>\n",
       "      <th>max</th>\n",
       "      <td>25.940600</td>\n",
       "      <td>75.000000</td>\n",
       "      <td>27.740000</td>\n",
       "      <td>0.871000</td>\n",
       "      <td>8.266000</td>\n",
       "      <td>100.000000</td>\n",
       "      <td>9.222900</td>\n",
       "      <td>24.000000</td>\n",
       "      <td>711.000000</td>\n",
       "      <td>21.200000</td>\n",
       "      <td>396.900000</td>\n",
       "      <td>30.810000</td>\n",
       "      <td>48.300000</td>\n",
       "    </tr>\n",
       "  </tbody>\n",
       "</table>\n",
       "</div>"
      ],
      "text/plain": [
       "             crim          zn       indus         nox          rm         age  \\\n",
       "count  344.000000  344.000000  344.000000  344.000000  344.000000  344.000000   \n",
       "mean     2.450686    7.226744   11.111017    0.554299    6.258157   68.745058   \n",
       "std      4.615743   15.207775    6.614872    0.115187    0.569417   27.481065   \n",
       "min      0.006320    0.000000    1.250000    0.400000    4.368000    2.900000   \n",
       "25%      0.086420    0.000000    5.860000    0.459500    5.890500   47.900000   \n",
       "50%      0.223505    0.000000    8.560000    0.524000    6.215500   74.950000   \n",
       "75%      2.447392    0.000000   18.100000    0.614000    6.563500   94.025000   \n",
       "max     25.940600   75.000000   27.740000    0.871000    8.266000  100.000000   \n",
       "\n",
       "              dis         rad         tax     ptratio       black       lstat  \\\n",
       "count  344.000000  344.000000  344.000000  344.000000  344.000000  344.000000   \n",
       "mean     3.754371    9.026163  395.613372   18.472384  372.805756   12.605669   \n",
       "std      1.862511    8.305530  164.333352    2.043084   56.255129    6.433283   \n",
       "min      1.316300    1.000000  188.000000   13.000000   81.330000    1.980000   \n",
       "25%      2.197850    4.000000  279.000000   17.400000  378.000000    7.537500   \n",
       "50%      3.346000    5.000000  311.000000   18.850000  392.110000   11.395000   \n",
       "75%      4.978850    8.000000  437.000000   20.200000  396.352500   16.312500   \n",
       "max      9.222900   24.000000  711.000000   21.200000  396.900000   30.810000   \n",
       "\n",
       "             medv  \n",
       "count  344.000000  \n",
       "mean    21.870349  \n",
       "std      7.049946  \n",
       "min      5.600000  \n",
       "25%     17.800000  \n",
       "50%     21.400000  \n",
       "75%     24.700000  \n",
       "max     48.300000  "
      ]
     },
     "execution_count": 12,
     "metadata": {},
     "output_type": "execute_result"
    }
   ],
   "source": [
    "house_clean.describe()"
   ]
  },
  {
   "cell_type": "markdown",
   "metadata": {},
   "source": [
    "#### Inserting chas column back as we're finished with the z value:"
   ]
  },
  {
   "cell_type": "code",
   "execution_count": 18,
   "metadata": {},
   "outputs": [],
   "source": [
    "house_clean = house_clean.merge(chas, how=\"left\", left_index=True, right_index=True)"
   ]
  },
  {
   "cell_type": "markdown",
   "metadata": {},
   "source": [
    "### Next, we want to explore the data. Pick several variables you think will be most correlated with the prices of homes in Boston, and create plots that show the data dispersion as well as the regression line of best fit."
   ]
  },
  {
   "cell_type": "code",
   "execution_count": 19,
   "metadata": {},
   "outputs": [
    {
     "data": {
      "text/html": [
       "<div>\n",
       "<style scoped>\n",
       "    .dataframe tbody tr th:only-of-type {\n",
       "        vertical-align: middle;\n",
       "    }\n",
       "\n",
       "    .dataframe tbody tr th {\n",
       "        vertical-align: top;\n",
       "    }\n",
       "\n",
       "    .dataframe thead th {\n",
       "        text-align: right;\n",
       "    }\n",
       "</style>\n",
       "<table border=\"1\" class=\"dataframe\">\n",
       "  <thead>\n",
       "    <tr style=\"text-align: right;\">\n",
       "      <th></th>\n",
       "      <th>crim</th>\n",
       "      <th>zn</th>\n",
       "      <th>indus</th>\n",
       "      <th>nox</th>\n",
       "      <th>rm</th>\n",
       "      <th>age</th>\n",
       "      <th>dis</th>\n",
       "      <th>rad</th>\n",
       "      <th>tax</th>\n",
       "      <th>ptratio</th>\n",
       "      <th>black</th>\n",
       "      <th>lstat</th>\n",
       "      <th>medv</th>\n",
       "      <th>chas</th>\n",
       "    </tr>\n",
       "  </thead>\n",
       "  <tbody>\n",
       "    <tr>\n",
       "      <th>crim</th>\n",
       "      <td>1.000000</td>\n",
       "      <td>-0.241617</td>\n",
       "      <td>0.519042</td>\n",
       "      <td>0.539734</td>\n",
       "      <td>-0.196427</td>\n",
       "      <td>0.429104</td>\n",
       "      <td>-0.478279</td>\n",
       "      <td>0.807828</td>\n",
       "      <td>0.750732</td>\n",
       "      <td>0.344527</td>\n",
       "      <td>-0.318274</td>\n",
       "      <td>0.550421</td>\n",
       "      <td>-0.502947</td>\n",
       "      <td>-0.062474</td>\n",
       "    </tr>\n",
       "    <tr>\n",
       "      <th>zn</th>\n",
       "      <td>-0.241617</td>\n",
       "      <td>1.000000</td>\n",
       "      <td>-0.466889</td>\n",
       "      <td>-0.437479</td>\n",
       "      <td>0.306047</td>\n",
       "      <td>-0.464761</td>\n",
       "      <td>0.560230</td>\n",
       "      <td>-0.244831</td>\n",
       "      <td>-0.266434</td>\n",
       "      <td>-0.319875</td>\n",
       "      <td>0.149975</td>\n",
       "      <td>-0.372182</td>\n",
       "      <td>0.352506</td>\n",
       "      <td>-0.035419</td>\n",
       "    </tr>\n",
       "    <tr>\n",
       "      <th>indus</th>\n",
       "      <td>0.519042</td>\n",
       "      <td>-0.466889</td>\n",
       "      <td>1.000000</td>\n",
       "      <td>0.726526</td>\n",
       "      <td>-0.374101</td>\n",
       "      <td>0.563808</td>\n",
       "      <td>-0.664603</td>\n",
       "      <td>0.556748</td>\n",
       "      <td>0.699719</td>\n",
       "      <td>0.285846</td>\n",
       "      <td>-0.332185</td>\n",
       "      <td>0.600200</td>\n",
       "      <td>-0.568853</td>\n",
       "      <td>0.043215</td>\n",
       "    </tr>\n",
       "    <tr>\n",
       "      <th>nox</th>\n",
       "      <td>0.539734</td>\n",
       "      <td>-0.437479</td>\n",
       "      <td>0.726526</td>\n",
       "      <td>1.000000</td>\n",
       "      <td>-0.292704</td>\n",
       "      <td>0.690241</td>\n",
       "      <td>-0.754815</td>\n",
       "      <td>0.553194</td>\n",
       "      <td>0.629006</td>\n",
       "      <td>0.063767</td>\n",
       "      <td>-0.367085</td>\n",
       "      <td>0.565860</td>\n",
       "      <td>-0.476195</td>\n",
       "      <td>0.107571</td>\n",
       "    </tr>\n",
       "    <tr>\n",
       "      <th>rm</th>\n",
       "      <td>-0.196427</td>\n",
       "      <td>0.306047</td>\n",
       "      <td>-0.374101</td>\n",
       "      <td>-0.292704</td>\n",
       "      <td>1.000000</td>\n",
       "      <td>-0.204997</td>\n",
       "      <td>0.201644</td>\n",
       "      <td>-0.106398</td>\n",
       "      <td>-0.208291</td>\n",
       "      <td>-0.203162</td>\n",
       "      <td>0.107481</td>\n",
       "      <td>-0.617776</td>\n",
       "      <td>0.718521</td>\n",
       "      <td>-0.000627</td>\n",
       "    </tr>\n",
       "    <tr>\n",
       "      <th>age</th>\n",
       "      <td>0.429104</td>\n",
       "      <td>-0.464761</td>\n",
       "      <td>0.563808</td>\n",
       "      <td>0.690241</td>\n",
       "      <td>-0.204997</td>\n",
       "      <td>1.000000</td>\n",
       "      <td>-0.699228</td>\n",
       "      <td>0.396756</td>\n",
       "      <td>0.461743</td>\n",
       "      <td>0.166223</td>\n",
       "      <td>-0.229832</td>\n",
       "      <td>0.602130</td>\n",
       "      <td>-0.457426</td>\n",
       "      <td>0.079676</td>\n",
       "    </tr>\n",
       "    <tr>\n",
       "      <th>dis</th>\n",
       "      <td>-0.478279</td>\n",
       "      <td>0.560230</td>\n",
       "      <td>-0.664603</td>\n",
       "      <td>-0.754815</td>\n",
       "      <td>0.201644</td>\n",
       "      <td>-0.699228</td>\n",
       "      <td>1.000000</td>\n",
       "      <td>-0.444762</td>\n",
       "      <td>-0.512869</td>\n",
       "      <td>-0.146633</td>\n",
       "      <td>0.271713</td>\n",
       "      <td>-0.490925</td>\n",
       "      <td>0.321378</td>\n",
       "      <td>-0.092416</td>\n",
       "    </tr>\n",
       "    <tr>\n",
       "      <th>rad</th>\n",
       "      <td>0.807828</td>\n",
       "      <td>-0.244831</td>\n",
       "      <td>0.556748</td>\n",
       "      <td>0.553194</td>\n",
       "      <td>-0.106398</td>\n",
       "      <td>0.396756</td>\n",
       "      <td>-0.444762</td>\n",
       "      <td>1.000000</td>\n",
       "      <td>0.902754</td>\n",
       "      <td>0.431874</td>\n",
       "      <td>-0.297313</td>\n",
       "      <td>0.438318</td>\n",
       "      <td>-0.420190</td>\n",
       "      <td>-0.042943</td>\n",
       "    </tr>\n",
       "    <tr>\n",
       "      <th>tax</th>\n",
       "      <td>0.750732</td>\n",
       "      <td>-0.266434</td>\n",
       "      <td>0.699719</td>\n",
       "      <td>0.629006</td>\n",
       "      <td>-0.208291</td>\n",
       "      <td>0.461743</td>\n",
       "      <td>-0.512869</td>\n",
       "      <td>0.902754</td>\n",
       "      <td>1.000000</td>\n",
       "      <td>0.419522</td>\n",
       "      <td>-0.327819</td>\n",
       "      <td>0.511240</td>\n",
       "      <td>-0.535423</td>\n",
       "      <td>-0.066463</td>\n",
       "    </tr>\n",
       "    <tr>\n",
       "      <th>ptratio</th>\n",
       "      <td>0.344527</td>\n",
       "      <td>-0.319875</td>\n",
       "      <td>0.285846</td>\n",
       "      <td>0.063767</td>\n",
       "      <td>-0.203162</td>\n",
       "      <td>0.166223</td>\n",
       "      <td>-0.146633</td>\n",
       "      <td>0.431874</td>\n",
       "      <td>0.419522</td>\n",
       "      <td>1.000000</td>\n",
       "      <td>-0.042575</td>\n",
       "      <td>0.271045</td>\n",
       "      <td>-0.441173</td>\n",
       "      <td>-0.137852</td>\n",
       "    </tr>\n",
       "    <tr>\n",
       "      <th>black</th>\n",
       "      <td>-0.318274</td>\n",
       "      <td>0.149975</td>\n",
       "      <td>-0.332185</td>\n",
       "      <td>-0.367085</td>\n",
       "      <td>0.107481</td>\n",
       "      <td>-0.229832</td>\n",
       "      <td>0.271713</td>\n",
       "      <td>-0.297313</td>\n",
       "      <td>-0.327819</td>\n",
       "      <td>-0.042575</td>\n",
       "      <td>1.000000</td>\n",
       "      <td>-0.287245</td>\n",
       "      <td>0.283520</td>\n",
       "      <td>-0.026149</td>\n",
       "    </tr>\n",
       "    <tr>\n",
       "      <th>lstat</th>\n",
       "      <td>0.550421</td>\n",
       "      <td>-0.372182</td>\n",
       "      <td>0.600200</td>\n",
       "      <td>0.565860</td>\n",
       "      <td>-0.617776</td>\n",
       "      <td>0.602130</td>\n",
       "      <td>-0.490925</td>\n",
       "      <td>0.438318</td>\n",
       "      <td>0.511240</td>\n",
       "      <td>0.271045</td>\n",
       "      <td>-0.287245</td>\n",
       "      <td>1.000000</td>\n",
       "      <td>-0.752176</td>\n",
       "      <td>0.027609</td>\n",
       "    </tr>\n",
       "    <tr>\n",
       "      <th>medv</th>\n",
       "      <td>-0.502947</td>\n",
       "      <td>0.352506</td>\n",
       "      <td>-0.568853</td>\n",
       "      <td>-0.476195</td>\n",
       "      <td>0.718521</td>\n",
       "      <td>-0.457426</td>\n",
       "      <td>0.321378</td>\n",
       "      <td>-0.420190</td>\n",
       "      <td>-0.535423</td>\n",
       "      <td>-0.441173</td>\n",
       "      <td>0.283520</td>\n",
       "      <td>-0.752176</td>\n",
       "      <td>1.000000</td>\n",
       "      <td>0.046095</td>\n",
       "    </tr>\n",
       "    <tr>\n",
       "      <th>chas</th>\n",
       "      <td>-0.062474</td>\n",
       "      <td>-0.035419</td>\n",
       "      <td>0.043215</td>\n",
       "      <td>0.107571</td>\n",
       "      <td>-0.000627</td>\n",
       "      <td>0.079676</td>\n",
       "      <td>-0.092416</td>\n",
       "      <td>-0.042943</td>\n",
       "      <td>-0.066463</td>\n",
       "      <td>-0.137852</td>\n",
       "      <td>-0.026149</td>\n",
       "      <td>0.027609</td>\n",
       "      <td>0.046095</td>\n",
       "      <td>1.000000</td>\n",
       "    </tr>\n",
       "  </tbody>\n",
       "</table>\n",
       "</div>"
      ],
      "text/plain": [
       "             crim        zn     indus       nox        rm       age       dis  \\\n",
       "crim     1.000000 -0.241617  0.519042  0.539734 -0.196427  0.429104 -0.478279   \n",
       "zn      -0.241617  1.000000 -0.466889 -0.437479  0.306047 -0.464761  0.560230   \n",
       "indus    0.519042 -0.466889  1.000000  0.726526 -0.374101  0.563808 -0.664603   \n",
       "nox      0.539734 -0.437479  0.726526  1.000000 -0.292704  0.690241 -0.754815   \n",
       "rm      -0.196427  0.306047 -0.374101 -0.292704  1.000000 -0.204997  0.201644   \n",
       "age      0.429104 -0.464761  0.563808  0.690241 -0.204997  1.000000 -0.699228   \n",
       "dis     -0.478279  0.560230 -0.664603 -0.754815  0.201644 -0.699228  1.000000   \n",
       "rad      0.807828 -0.244831  0.556748  0.553194 -0.106398  0.396756 -0.444762   \n",
       "tax      0.750732 -0.266434  0.699719  0.629006 -0.208291  0.461743 -0.512869   \n",
       "ptratio  0.344527 -0.319875  0.285846  0.063767 -0.203162  0.166223 -0.146633   \n",
       "black   -0.318274  0.149975 -0.332185 -0.367085  0.107481 -0.229832  0.271713   \n",
       "lstat    0.550421 -0.372182  0.600200  0.565860 -0.617776  0.602130 -0.490925   \n",
       "medv    -0.502947  0.352506 -0.568853 -0.476195  0.718521 -0.457426  0.321378   \n",
       "chas    -0.062474 -0.035419  0.043215  0.107571 -0.000627  0.079676 -0.092416   \n",
       "\n",
       "              rad       tax   ptratio     black     lstat      medv      chas  \n",
       "crim     0.807828  0.750732  0.344527 -0.318274  0.550421 -0.502947 -0.062474  \n",
       "zn      -0.244831 -0.266434 -0.319875  0.149975 -0.372182  0.352506 -0.035419  \n",
       "indus    0.556748  0.699719  0.285846 -0.332185  0.600200 -0.568853  0.043215  \n",
       "nox      0.553194  0.629006  0.063767 -0.367085  0.565860 -0.476195  0.107571  \n",
       "rm      -0.106398 -0.208291 -0.203162  0.107481 -0.617776  0.718521 -0.000627  \n",
       "age      0.396756  0.461743  0.166223 -0.229832  0.602130 -0.457426  0.079676  \n",
       "dis     -0.444762 -0.512869 -0.146633  0.271713 -0.490925  0.321378 -0.092416  \n",
       "rad      1.000000  0.902754  0.431874 -0.297313  0.438318 -0.420190 -0.042943  \n",
       "tax      0.902754  1.000000  0.419522 -0.327819  0.511240 -0.535423 -0.066463  \n",
       "ptratio  0.431874  0.419522  1.000000 -0.042575  0.271045 -0.441173 -0.137852  \n",
       "black   -0.297313 -0.327819 -0.042575  1.000000 -0.287245  0.283520 -0.026149  \n",
       "lstat    0.438318  0.511240  0.271045 -0.287245  1.000000 -0.752176  0.027609  \n",
       "medv    -0.420190 -0.535423 -0.441173  0.283520 -0.752176  1.000000  0.046095  \n",
       "chas    -0.042943 -0.066463 -0.137852 -0.026149  0.027609  0.046095  1.000000  "
      ]
     },
     "execution_count": 19,
     "metadata": {},
     "output_type": "execute_result"
    }
   ],
   "source": [
    "house_corr = house_clean.corr()\n",
    "house_corr "
   ]
  },
  {
   "cell_type": "code",
   "execution_count": 20,
   "metadata": {},
   "outputs": [
    {
     "data": {
      "text/plain": [
       "<matplotlib.axes._subplots.AxesSubplot at 0x1b8337b3cf8>"
      ]
     },
     "execution_count": 20,
     "metadata": {},
     "output_type": "execute_result"
    },
    {
     "data": {
      "image/png": "[encoded data removed]",
      "text/plain": [
       "<Figure size 432x288 with 2 Axes>"
      ]
     },
     "metadata": {
      "needs_background": "light"
     },
     "output_type": "display_data"
    }
   ],
   "source": [
    "sns.heatmap(house_corr)"
   ]
  },
  {
   "cell_type": "code",
   "execution_count": 24,
   "metadata": {},
   "outputs": [
    {
     "data": {
      "text/plain": [
       "<matplotlib.axes._subplots.AxesSubplot at 0x1b833bd6358>"
      ]
     },
     "execution_count": 24,
     "metadata": {},
     "output_type": "execute_result"
    },
    {
     "data": {
      "image/png": "[encoded data removed]",
      "text/plain": [
       "<Figure size 720x576 with 4 Axes>"
      ]
     },
     "metadata": {
      "needs_background": "light"
     },
     "output_type": "display_data"
    }
   ],
   "source": [
    "f, axes = plt.subplots(2, 2)\n",
    "f.set_size_inches(10, 8)\n",
    "sns.regplot(x=\"rm\", y=\"medv\", data=house_clean, ax=axes[0, 0])\n",
    "sns.regplot(x=\"age\", y=\"medv\", data=house_clean, ax=axes[0, 1])\n",
    "sns.regplot(x=\"dis\", y=\"medv\", data=house_clean, ax=axes[1, 0])\n",
    "sns.regplot(x=\"lstat\", y=\"medv\", data=house_clean, ax=axes[1, 1])"
   ]
  },
  {
   "cell_type": "markdown",
   "metadata": {},
   "source": [
    "### What do these plots tell you about the relationships between these variables and the prices of homes in Boston? Are these the relationships you expected to see in these variables?"
   ]
  },
  {
   "cell_type": "markdown",
   "metadata": {},
   "source": [
    "RM - MEDV: More rooms in the house, more expensive the house \\\n",
    "AGE - MEDV: The older the appartement unit, the cheaper the house \\\n",
    "DIS - MEDV: Higher distance to employment centres, more expensive the house \\\n",
    "LSTAT - MEDV: the higher the % of low status, the cheaper the house "
   ]
  },
  {
   "cell_type": "markdown",
   "metadata": {},
   "source": [
    "### Calculate Statistics\n",
    "Calculate descriptive statistics for housing price. Include the minimum, maximum, mean, median, and standard deviation. "
   ]
  },
  {
   "cell_type": "code",
   "execution_count": 26,
   "metadata": {},
   "outputs": [
    {
     "data": {
      "text/plain": [
       "count    344.000000\n",
       "mean      21.870349\n",
       "std        7.049946\n",
       "min        5.600000\n",
       "25%       17.800000\n",
       "50%       21.400000\n",
       "75%       24.700000\n",
       "max       48.300000\n",
       "Name: medv, dtype: float64"
      ]
     },
     "execution_count": 26,
     "metadata": {},
     "output_type": "execute_result"
    }
   ],
   "source": [
    "house_clean.medv.describe()"
   ]
  },
  {
   "cell_type": "markdown",
   "metadata": {},
   "source": [
    "----\n",
    "\n",
    "## Developing a Model"
   ]
  },
  {
   "cell_type": "markdown",
   "metadata": {},
   "source": [
    "### Implementation: Define a Performance Metric\n",
    "What is the performance meteric with which you will determine the performance of your model? Create a function that calculates this performance metric, and then returns the score. "
   ]
  },
  {
   "cell_type": "code",
   "execution_count": 29,
   "metadata": {},
   "outputs": [],
   "source": [
    "from sklearn.metrics import r2_score\n",
    "\n",
    "def performance_metric(y_true, y_predict):\n",
    "    \"\"\" Calculates and returns the performance score between \n",
    "        true and predicted values based on the metric chosen. \"\"\"\n",
    "    # Your code here:\n",
    "    return r2_score(y_true, y_predict)"
   ]
  },
  {
   "cell_type": "markdown",
   "metadata": {},
   "source": [
    "### Implementation: Shuffle and Split Data\n",
    "Split the data into the testing and training datasets. Shuffle the data as well to remove any bias in selecting the traing and test. "
   ]
  },
  {
   "cell_type": "code",
   "execution_count": 27,
   "metadata": {},
   "outputs": [],
   "source": [
    "from sklearn.model_selection import train_test_split"
   ]
  },
  {
   "cell_type": "code",
   "execution_count": 28,
   "metadata": {},
   "outputs": [],
   "source": [
    "X = house_clean.drop(\"medv\", axis=1)\n",
    "y = house_clean.medv\n",
    "\n",
    "X_train, X_test, y_train, y_test = train_test_split(X, y, test_size=0.2, random_state=42)"
   ]
  },
  {
   "cell_type": "markdown",
   "metadata": {},
   "source": [
    "----\n",
    "\n",
    "## Analyzing Model Performance\n",
    "Next, we are going to build a Random Forest Regressor, and test its performance with several different parameter settings."
   ]
  },
  {
   "cell_type": "markdown",
   "metadata": {},
   "source": [
    "### Learning Curves\n",
    "Lets build the different models. Set the max_depth parameter to 2, 4, 6, 8, and 10 respectively. "
   ]
  },
  {
   "cell_type": "code",
   "execution_count": 33,
   "metadata": {},
   "outputs": [],
   "source": [
    "from sklearn.ensemble import RandomForestRegressor\n",
    "\n",
    "rf_model_2 = RandomForestRegressor(max_depth=2)\n",
    "rf_model_4 = RandomForestRegressor(max_depth=4)\n",
    "rf_model_6 = RandomForestRegressor(max_depth=6)\n",
    "rf_model_8 = RandomForestRegressor(max_depth=8)\n",
    "rf_model_10 = RandomForestRegressor(max_depth=10)"
   ]
  },
  {
   "cell_type": "code",
   "execution_count": 35,
   "metadata": {},
   "outputs": [
    {
     "name": "stderr",
     "output_type": "stream",
     "text": [
      "c:\\program files\\python37\\lib\\site-packages\\sklearn\\ensemble\\forest.py:245: FutureWarning: The default value of n_estimators will change from 10 in version 0.20 to 100 in 0.22.\n",
      "  \"10 in version 0.20 to 100 in 0.22.\", FutureWarning)\n",
      "c:\\program files\\python37\\lib\\site-packages\\sklearn\\ensemble\\forest.py:245: FutureWarning: The default value of n_estimators will change from 10 in version 0.20 to 100 in 0.22.\n",
      "  \"10 in version 0.20 to 100 in 0.22.\", FutureWarning)\n",
      "c:\\program files\\python37\\lib\\site-packages\\sklearn\\ensemble\\forest.py:245: FutureWarning: The default value of n_estimators will change from 10 in version 0.20 to 100 in 0.22.\n",
      "  \"10 in version 0.20 to 100 in 0.22.\", FutureWarning)\n",
      "c:\\program files\\python37\\lib\\site-packages\\sklearn\\ensemble\\forest.py:245: FutureWarning: The default value of n_estimators will change from 10 in version 0.20 to 100 in 0.22.\n",
      "  \"10 in version 0.20 to 100 in 0.22.\", FutureWarning)\n"
     ]
    },
    {
     "data": {
      "text/plain": [
       "RandomForestRegressor(bootstrap=True, criterion='mse', max_depth=10,\n",
       "                      max_features='auto', max_leaf_nodes=None,\n",
       "                      min_impurity_decrease=0.0, min_impurity_split=None,\n",
       "                      min_samples_leaf=1, min_samples_split=2,\n",
       "                      min_weight_fraction_leaf=0.0, n_estimators=10,\n",
       "                      n_jobs=None, oob_score=False, random_state=None,\n",
       "                      verbose=0, warm_start=False)"
      ]
     },
     "execution_count": 35,
     "metadata": {},
     "output_type": "execute_result"
    }
   ],
   "source": [
    "rf_model_2.fit(X_train, y_train)\n",
    "rf_model_4.fit(X_train, y_train)\n",
    "rf_model_6.fit(X_train, y_train)\n",
    "rf_model_8.fit(X_train, y_train)\n",
    "rf_model_10.fit(X_train, y_trainrf_model_2)"
   ]
  },
  {
   "cell_type": "code",
   "execution_count": 48,
   "metadata": {},
   "outputs": [
    {
     "data": {
      "text/plain": [
       "'\\npred_test_lst = []\\nfor i in lst:\\n    pred_test_lst.append(i.predict(X_test))\\nprint (pred_test_lst)'"
      ]
     },
     "execution_count": 48,
     "metadata": {},
     "output_type": "execute_result"
    }
   ],
   "source": [
    "rf2_pred = rf_model_2.predict(X_test)\n",
    "rf4_pred = rf_model_4.predict(X_test)\n",
    "rf6_pred = rf_model_6.predict(X_test)\n",
    "rf8_pred = rf_model_8.predict(X_test)\n",
    "rf10_pred = rf_model_10.predict(X_test)\n",
    "'''\n",
    "pred_test_lst = []\n",
    "for i in lst:\n",
    "    pred_test_lst.append(i.predict(X_test))\n",
    "print (pred_test_lst)'''"
   ]
  },
  {
   "cell_type": "code",
   "execution_count": 50,
   "metadata": {},
   "outputs": [
    {
     "name": "stdout",
     "output_type": "stream",
     "text": [
      "0.684648583496385\n",
      "0.7768845398910245\n",
      "0.7981041107948064\n",
      "0.7722553228087388\n",
      "0.7995238114949889\n"
     ]
    }
   ],
   "source": [
    "print(r2_score(y_test, rf2_pred))\n",
    "print(r2_score(y_test, rf4_pred))\n",
    "print(r2_score(y_test, rf6_pred))\n",
    "print(r2_score(y_test, rf8_pred))\n",
    "print(r2_score(y_test, rf10_pred))"
   ]
  },
  {
   "cell_type": "markdown",
   "metadata": {},
   "source": [
    "Now, plot the score for each tree on the training set and on the testing set."
   ]
  },
  {
   "cell_type": "code",
   "execution_count": 51,
   "metadata": {
    "scrolled": false
   },
   "outputs": [
    {
     "data": {
      "text/plain": [
       "[<matplotlib.lines.Line2D at 0x1b8345a4b70>]"
      ]
     },
     "execution_count": 51,
     "metadata": {},
     "output_type": "execute_result"
    },
    {
     "data": {
      "image/png": "[encoded data removed]",
      "text/plain": [
       "<Figure size 432x288 with 1 Axes>"
      ]
     },
     "metadata": {
      "needs_background": "light"
     },
     "output_type": "display_data"
    }
   ],
   "source": [
    "# Produce a plot with the score for the testing and training for the different max depths\n",
    "plt.plot([\"rf2\",\"rf4\",\"rf6\", \"rf8\", \"rf10\"], [0.684648583496385, 0.7768845398910245, 0.7981041107948064, 0.7722553228087388, 0.7995238114949889])"
   ]
  },
  {
   "cell_type": "markdown",
   "metadata": {},
   "source": [
    "What do these results tell you about the effect of the depth of the trees on the performance of the model?"
   ]
  },
  {
   "cell_type": "code",
   "execution_count": null,
   "metadata": {},
   "outputs": [],
   "source": [
    "# Your response here"
   ]
  },
  {
   "cell_type": "markdown",
   "metadata": {},
   "source": [
    "### Bias-Variance Tradeoff\n",
    "When the model is trained with a maximum depth of 1, does the model suffer from high bias or from high variance? How about when the model is trained with a maximum depth of 10?"
   ]
  },
  {
   "cell_type": "code",
   "execution_count": null,
   "metadata": {},
   "outputs": [],
   "source": [
    "# Your response here"
   ]
  },
  {
   "cell_type": "markdown",
   "metadata": {},
   "source": [
    "### Best-Guess Optimal Model\n",
    "What is the max_depth parameter that you think would optimize the model? Run your model and explain its performance."
   ]
  },
  {
   "cell_type": "code",
   "execution_count": null,
   "metadata": {},
   "outputs": [],
   "source": [
    "# Your response here"
   ]
  },
  {
   "cell_type": "markdown",
   "metadata": {},
   "source": [
    "### Applicability\n",
    "*In a few sentences, discuss whether the constructed model should or should not be used in a real-world setting.*  \n",
    "**Hint:** Some questions to answering:\n",
    "- *How relevant today is data that was collected from 1978?*\n",
    "- *Are the features present in the data sufficient to describe a home?*\n",
    "- *Is the model robust enough to make consistent predictions?*\n",
    "- *Would data collected in an urban city like Boston be applicable in a rural city?*"
   ]
  },
  {
   "cell_type": "code",
   "execution_count": null,
   "metadata": {},
   "outputs": [],
   "source": [
    "# Your response here"
   ]
  }
 ],
 "metadata": {
  "anaconda-cloud": {},
  "kernelspec": {
   "display_name": "Python 3",
   "language": "python",
   "name": "python3"
  },
  "language_info": {
   "codemirror_mode": {
    "name": "ipython",
    "version": 3
   },
   "file_extension": ".py",
   "mimetype": "text/x-python",
   "name": "python",
   "nbconvert_exporter": "python",
   "pygments_lexer": "ipython3",
   "version": "3.7.3"
  }
 },
 "nbformat": 4,
 "nbformat_minor": 1
}
